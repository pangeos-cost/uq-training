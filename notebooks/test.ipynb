{
 "cells": [
  {
   "cell_type": "markdown",
   "id": "1a4fdb74-37f0-46b3-94ee-82d02e98d7f7",
   "metadata": {},
   "source": [
    "<img src=\"logo-pangeos.jpg\" alt=\"logos\"/>"
   ]
  },
  {
   "cell_type": "markdown",
   "id": "93750eb6-8352-4151-89f8-dcb41c1603cc",
   "metadata": {},
   "source": [
    "![logo-pangeos.jpg](logo-pangeos.jpg)"
   ]
  }
 ],
 "metadata": {
  "kernelspec": {
   "display_name": "Python 3 (ipykernel)",
   "language": "python",
   "name": "python3"
  },
  "language_info": {
   "codemirror_mode": {
    "name": "ipython",
    "version": 3
   },
   "file_extension": ".py",
   "mimetype": "text/x-python",
   "name": "python",
   "nbconvert_exporter": "python",
   "pygments_lexer": "ipython3",
   "version": "3.12.6"
  }
 },
 "nbformat": 4,
 "nbformat_minor": 5
}
