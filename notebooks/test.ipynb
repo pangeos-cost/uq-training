{
 "cells": [
  {
   "cell_type": "markdown",
   "id": "1a4fdb74-37f0-46b3-94ee-82d02e98d7f7",
   "metadata": {},
   "source": [
    "<img src=\"logo-pangeos.jpg\" alt=\"logos\"/>"
   ]
  },
  {
   "cell_type": "markdown",
   "id": "93750eb6-8352-4151-89f8-dcb41c1603cc",
   "metadata": {},
   "source": [
    "![logo-pangeos.jpg](logo-pangeos.jpg)"
   ]
  },
  {
   "cell_type": "markdown",
   "id": "bb2ed463-3a1e-4189-9540-96c72b787c03",
   "metadata": {},
   "source": [
    "nothing worked from here\n",
    "https://github.com/jupyter/notebook/issues/3278"
   ]
  },
  {
   "cell_type": "code",
   "execution_count": null,
   "id": "b7f34d97-cc95-4ba1-83ec-e7498e802080",
   "metadata": {},
   "outputs": [],
   "source": []
  }
 ],
 "metadata": {
  "kernelspec": {
   "display_name": "Python 3 (ipykernel)",
   "language": "python",
   "name": "python3"
  },
  "language_info": {
   "codemirror_mode": {
    "name": "ipython",
    "version": 3
   },
   "file_extension": ".py",
   "mimetype": "text/x-python",
   "name": "python",
   "nbconvert_exporter": "python",
   "pygments_lexer": "ipython3",
   "version": "3.12.6"
  }
 },
 "nbformat": 4,
 "nbformat_minor": 5
}
