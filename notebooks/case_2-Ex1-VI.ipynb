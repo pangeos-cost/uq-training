{
 "cells": [
  {
   "cell_type": "markdown",
   "id": "8d75d4d0-9536-4e25-bd41-98fb7aa797d6",
   "metadata": {},
   "source": [
    "<a href=\"https://pangeos.eu/\" target=\"_blank\">\n",
    "<center><img src=\"../images/1-logos-pan-eu-cost.png\" alt=\"logos\" width=\"100%\"/></center>\n",
    "</a>\n",
    "\n",
    "PANGEOS summer taining school 2024\n",
    "\n",
    "EXAMPLE OF UNCERTAINTY PROPAGATION FOR \n",
    "\n",
    "# CASE 2: Retrieval of traits from spectral data\n",
    "\n",
    "**Authors:**\n",
    "Egor Prikaziuk (e.prikaziuk@utwente.nl)"
   ]
  },
  {
   "cell_type": "markdown",
   "id": "6685bd12-0359-4dff-af16-3f587bc417ee",
   "metadata": {},
   "source": [
    "# Learning objectives\n",
    "\n",
    "**After follwing this notebook you will be able to ...**\n",
    "- propagate uncertainty in reflectance to uncertainty in a vegetation (spectral) index\n"
   ]
  },
  {
   "cell_type": "markdown",
   "id": "1ec6d508-ba4d-424d-aaad-2630ec974f59",
   "metadata": {},
   "source": [
    "# TOC\n",
    "\n",
    "1. [Load reflectance](#1)\n",
    "2. [Compute NDVI](#2)\n",
    "3. [Propagate uncertainty](#3)\n",
    "4. [Explain](#4) "
   ]
  },
  {
   "cell_type": "code",
   "execution_count": 2,
   "id": "b02e12c4-f3d1-4cdd-aaab-953237d921de",
   "metadata": {},
   "outputs": [],
   "source": [
    "import pandas as pd\n",
    "import punpy\n",
    "\n",
    "from pathlib import Path"
   ]
  },
  {
   "cell_type": "markdown",
   "id": "c75f7ef7-4f0d-494e-9a4b-abbfe9aec6bd",
   "metadata": {},
   "source": [
    "# 1\n",
    "## Load reflectance +/- U\n",
    "[back to TOC](#TOC)\n",
    "\n",
    "This example uses hyperspectral reflectance recorded with a handheld point spectrometer system Piccolo doppio. \n",
    "\n",
    "The propagation of uncertainty in radiance and irradiance to the uncertainty in reflectance due to \n",
    "- random effects\n",
    "- systematic effects of calibration\n",
    "\n",
    "were discussed in CASE 1 notebooks"
   ]
  },
  {
   "cell_type": "code",
   "execution_count": 3,
   "id": "6c4b5092-0942-4fb2-a7f2-df6131d60339",
   "metadata": {},
   "outputs": [
    {
     "data": {
      "text/html": [
       "<div>\n",
       "<style scoped>\n",
       "    .dataframe tbody tr th:only-of-type {\n",
       "        vertical-align: middle;\n",
       "    }\n",
       "\n",
       "    .dataframe tbody tr th {\n",
       "        vertical-align: top;\n",
       "    }\n",
       "\n",
       "    .dataframe thead th {\n",
       "        text-align: right;\n",
       "    }\n",
       "</style>\n",
       "<table border=\"1\" class=\"dataframe\">\n",
       "  <thead>\n",
       "    <tr style=\"text-align: right;\">\n",
       "      <th></th>\n",
       "      <th>wl</th>\n",
       "      <th>refl</th>\n",
       "      <th>refl_u</th>\n",
       "    </tr>\n",
       "  </thead>\n",
       "  <tbody>\n",
       "    <tr>\n",
       "      <th>0</th>\n",
       "      <td>401.82374</td>\n",
       "      <td>0.026258</td>\n",
       "      <td>0.001128</td>\n",
       "    </tr>\n",
       "    <tr>\n",
       "      <th>1</th>\n",
       "      <td>402.61047</td>\n",
       "      <td>0.026386</td>\n",
       "      <td>0.001135</td>\n",
       "    </tr>\n",
       "    <tr>\n",
       "      <th>2</th>\n",
       "      <td>403.39714</td>\n",
       "      <td>0.026713</td>\n",
       "      <td>0.001149</td>\n",
       "    </tr>\n",
       "    <tr>\n",
       "      <th>3</th>\n",
       "      <td>404.18373</td>\n",
       "      <td>0.026888</td>\n",
       "      <td>0.001156</td>\n",
       "    </tr>\n",
       "    <tr>\n",
       "      <th>4</th>\n",
       "      <td>404.97025</td>\n",
       "      <td>0.027230</td>\n",
       "      <td>0.001171</td>\n",
       "    </tr>\n",
       "  </tbody>\n",
       "</table>\n",
       "</div>"
      ],
      "text/plain": [
       "          wl      refl    refl_u\n",
       "0  401.82374  0.026258  0.001128\n",
       "1  402.61047  0.026386  0.001135\n",
       "2  403.39714  0.026713  0.001149\n",
       "3  404.18373  0.026888  0.001156\n",
       "4  404.97025  0.027230  0.001171"
      ]
     },
     "execution_count": 3,
     "metadata": {},
     "output_type": "execute_result"
    }
   ],
   "source": [
    "df = pd.read_csv('../data/R1_ut.csv')\n",
    "df.head()"
   ]
  },
  {
   "cell_type": "markdown",
   "id": "87462b01-433b-468b-99d5-6974406fe7b7",
   "metadata": {},
   "source": [
    "# 2\n",
    "## NDVI computation\n",
    "[back to TOC](#TOC)\n",
    "\n",
    "two versions possible\n",
    "- single band\n",
    "- spectral response function\n",
    "\n",
    "This example uses bands correspodning to central wavelengths of Sentinel-2 B4 and B8; band ranges https://custom-scripts.sentinel-hub.com/custom-scripts/sentinel-2/bands/"
   ]
  },
  {
   "cell_type": "code",
   "execution_count": 4,
   "id": "1318eaf9-d028-471b-b74a-861c4f2e441b",
   "metadata": {},
   "outputs": [],
   "source": [
    "wl_red = 665  # nm  B4\n",
    "wl_nir = 842  # nm  B8"
   ]
  },
  {
   "cell_type": "code",
   "execution_count": 5,
   "id": "bb389281-7f1d-44a7-b85d-87eae0ffde63",
   "metadata": {},
   "outputs": [
    {
     "data": {
      "text/plain": [
       "(np.int64(340), np.int64(575))"
      ]
     },
     "execution_count": 5,
     "metadata": {},
     "output_type": "execute_result"
    }
   ],
   "source": [
    "i_red = abs((df.wl - wl_red)).argmin()\n",
    "i_nir = abs((df.wl - wl_nir)).argmin()\n",
    "i_red, i_nir"
   ]
  },
  {
   "cell_type": "code",
   "execution_count": 6,
   "id": "2c35a556-6865-4b8b-89e1-91a346313a89",
   "metadata": {},
   "outputs": [
    {
     "data": {
      "text/plain": [
       "(np.float64(0.0565892236607021), np.float64(0.5616192798481215))"
      ]
     },
     "execution_count": 6,
     "metadata": {},
     "output_type": "execute_result"
    }
   ],
   "source": [
    "r_red = df.refl.iloc[i_red]\n",
    "r_nir = df.refl.iloc[i_nir]\n",
    "r_red, r_nir"
   ]
  },
  {
   "cell_type": "code",
   "execution_count": 7,
   "id": "ae56af97-77e6-4892-9064-357cd91ac132",
   "metadata": {},
   "outputs": [
    {
     "data": {
      "text/plain": [
       "np.float64(0.8169251204423319)"
      ]
     },
     "execution_count": 7,
     "metadata": {},
     "output_type": "execute_result"
    }
   ],
   "source": [
    "ndvi = (r_nir - r_red) / (r_nir + r_red)\n",
    "ndvi"
   ]
  },
  {
   "cell_type": "markdown",
   "id": "1d098611-95cc-4d36-92dd-4e9a052ba7e5",
   "metadata": {},
   "source": [
    "# 3\n",
    "## propagation of uncertainty\n",
    "[back to TOC](#TOC)\n",
    "\n",
    "Same steps as in the previous notebooks\n",
    "1. Monte Carlo sampler initialization\n",
    "2. model function definition\n",
    "3. mean value computation\n",
    "4. uncertainty definition\n",
    "5. uncertinaty propagation"
   ]
  },
  {
   "cell_type": "markdown",
   "id": "c243cbe5-22c5-4bd4-842c-265a1fdf69c4",
   "metadata": {},
   "source": [
    "### 3-1 Monte Carlo sampler initialization"
   ]
  },
  {
   "cell_type": "code",
   "execution_count": 8,
   "id": "255761e3-e986-45ce-b799-d816521c362f",
   "metadata": {},
   "outputs": [],
   "source": [
    "prop = punpy.MCPropagation(10000)"
   ]
  },
  {
   "cell_type": "markdown",
   "id": "b0bde031-cf0d-4c1b-b7d9-7d47b8e0b845",
   "metadata": {},
   "source": [
    "### 3-2 model function definition"
   ]
  },
  {
   "cell_type": "code",
   "execution_count": 9,
   "id": "74c84802-72a8-466c-bb73-17bcdd134b29",
   "metadata": {},
   "outputs": [],
   "source": [
    "def clc_ndvi(red, nir):\n",
    "    ndvi = (nir - red) / (nir + red)\n",
    "    return ndvi"
   ]
  },
  {
   "cell_type": "markdown",
   "id": "cd0e9a30-e3ab-404a-a11e-0bce6954f3a8",
   "metadata": {},
   "source": [
    "###  3-3 mean value computation"
   ]
  },
  {
   "cell_type": "code",
   "execution_count": 10,
   "id": "b86f7ac2-d259-408a-88bd-09277fb40174",
   "metadata": {},
   "outputs": [],
   "source": [
    "ndvi = clc_ndvi(r_red, r_nir)"
   ]
  },
  {
   "cell_type": "markdown",
   "id": "52491588-165d-4e62-bfae-c1ce826c7802",
   "metadata": {},
   "source": [
    "### 3-4 uncertainty definition"
   ]
  },
  {
   "cell_type": "code",
   "execution_count": 11,
   "id": "4e0975ec-8853-40aa-9a01-f98accf0bb20",
   "metadata": {},
   "outputs": [
    {
     "data": {
      "text/plain": [
       "(np.float64(0.0024542763743017), np.float64(0.0240881009007566))"
      ]
     },
     "execution_count": 11,
     "metadata": {},
     "output_type": "execute_result"
    }
   ],
   "source": [
    "u_red = df.refl_u.iloc[i_red]\n",
    "u_nir = df.refl_u.iloc[i_nir]\n",
    "u_red, u_nir"
   ]
  },
  {
   "cell_type": "markdown",
   "id": "1f989836-f70f-4ae6-a8aa-7284f302860f",
   "metadata": {},
   "source": [
    "### 3-5 uncertinaty propagation\n",
    "\n",
    "we are assuming no correlation between uncertainties, therefore we use `.propagate_random()` method \n",
    "\n",
    "function help https://punpy.readthedocs.io/en/latest/content/generated/punpy.mc.mc_propagation.MCPropagation.propagate_random.html#punpy.mc.mc_propagation.MCPropagation.propagate_random"
   ]
  },
  {
   "cell_type": "code",
   "execution_count": 12,
   "id": "18b53c70-82c0-4b38-b4f3-e3ec44d1d0ce",
   "metadata": {},
   "outputs": [
    {
     "name": "stderr",
     "output_type": "stream",
     "text": [
      "C:\\Users\\PrikaziukE\\AppData\\Local\\miniconda3\\envs\\pangeos\\Lib\\site-packages\\punpy\\mc\\mc_propagation.py:986: UserWarning: It looks like one of your input quantities is not an array or does not have the same shape as the measurand. This is not a problem, but means you likely cannot use array operations in your measurement function. You might need to set parallel_cores to 1 or higher when creating your MCPropagation object.\n",
      "  warnings.warn(\n"
     ]
    },
    {
     "data": {
      "text/plain": [
       "np.float64(0.010171795997444444)"
      ]
     },
     "execution_count": 12,
     "metadata": {},
     "output_type": "execute_result"
    }
   ],
   "source": [
    "ndvi_ur = prop.propagate_random(clc_ndvi, \n",
    "                              [r_red, r_nir],\n",
    "                              [u_red, u_nir])\n",
    "ndvi_ur"
   ]
  },
  {
   "cell_type": "markdown",
   "id": "ab9ebbe9-f729-4eb3-b62f-e33eccd0d6bb",
   "metadata": {},
   "source": [
    "# 4\n",
    "## meaning\n",
    "[back to TOC](#TOC)"
   ]
  },
  {
   "cell_type": "code",
   "execution_count": 13,
   "id": "3c8bd7cc-352d-43ec-9ecb-7638ea388a72",
   "metadata": {},
   "outputs": [
    {
     "name": "stdout",
     "output_type": "stream",
     "text": [
      "NDVI = 0.82 +/- 0.01\n"
     ]
    }
   ],
   "source": [
    "print(f'NDVI = {ndvi:.2f} +/- {ndvi_ur:.2f}')"
   ]
  },
  {
   "cell_type": "code",
   "execution_count": 14,
   "id": "e0be57f5-0560-4f74-89fb-681fd8ded85b",
   "metadata": {},
   "outputs": [
    {
     "name": "stdout",
     "output_type": "stream",
     "text": [
      "relative NDVI uncertainty is 1.2%\n"
     ]
    }
   ],
   "source": [
    "ndvi_ur_rel = ndvi_ur / ndvi * 100\n",
    "print(f'relative NDVI uncertainty is {ndvi_ur_rel:.1f}%')"
   ]
  }
 ],
 "metadata": {
  "kernelspec": {
   "display_name": "Python 3 (ipykernel)",
   "language": "python",
   "name": "python3"
  },
  "language_info": {
   "codemirror_mode": {
    "name": "ipython",
    "version": 3
   },
   "file_extension": ".py",
   "mimetype": "text/x-python",
   "name": "python",
   "nbconvert_exporter": "python",
   "pygments_lexer": "ipython3",
   "version": "3.12.6"
  }
 },
 "nbformat": 4,
 "nbformat_minor": 5
}
