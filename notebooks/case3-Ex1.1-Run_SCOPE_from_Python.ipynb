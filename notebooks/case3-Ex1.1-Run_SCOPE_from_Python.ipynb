{
 "cells": [
  {
   "cell_type": "markdown",
   "id": "a335e5aa-09c6-4f7e-a775-3965d90c7e33",
   "metadata": {},
   "source": [
    "<a href=\"https://pangeos.eu/\" target=\"_blank\">\n",
    "<center><img src=\"../images/1-logos-pan-eu-cost.png\" alt=\"logos\" width=\"100%\"/></center>\n",
    "</a>\n",
    "\n",
    "PANGEOS summer taining school 2024\n",
    "\n",
    "EXAMPLE OF UNCERTAINTY PROPAGATION FOR \n",
    "\n",
    "# CASE 3: Propagation of retrieved traits to higher level products\n",
    "\n",
    "**Authors:**\n",
    "Andreas Hueni (andreas.hueni@geo.uzh.ch), Mike Werfeli (mike.werfeli@geo.uzh.ch) and Egor Prikaziuk (e.prikaziuk@utwente.nl)"
   ]
  },
  {
   "cell_type": "markdown",
   "id": "7e0780cd-b7b5-4532-852c-5bfcafab6a5e",
   "metadata": {},
   "source": [
    "<div class=\"alert alert-success\">\n",
    "Using SCOPE from MATLAB is easy once you have a MATLAB license.\n",
    "</div>\n",
    "\n",
    "<div class=\"alert alert-warning\">\n",
    "Calling MATLAB from Python is complicated because <strong>matlab-python bridge</strong> requires a matching Python version.\n",
    "</div>\n",
    "\n",
    "If you can not run this example it is ok. \n",
    "\n",
    "There's another notebook that shows how to propagate the uncertainty throgh SCOPE purely from the distributions of parameters, outside punpy and covariances"
   ]
  },
  {
   "cell_type": "markdown",
   "id": "d38c7053-2569-40bc-8b99-185d603a1aff",
   "metadata": {},
   "source": [
    "# Learning objectives\n",
    "\n",
    "**After follwing this notebook you will be able to ...**\n",
    "- install `matlabengine` package to run MATLAB from Python\n",
    "- call SCOPE model from Python\n"
   ]
  },
  {
   "cell_type": "markdown",
   "id": "97367259-8219-4479-adab-dd835c7cb6ea",
   "metadata": {},
   "source": [
    "# TOC\n",
    "\n",
    "1. [SCOPE model](#1)\n",
    "2. [matlab engine installation](#2)\n",
    "3. [SCOPE run](#3)\n",
    "    1. [3-1](#3-1) Provide path to the SCOPE model\n",
    "    2. [3-2](#3-2) Adjust input files\n",
    "    3. [3-3](#3-3) Provide values of input variables\n",
    "    4. [3-4](#3-4) Call SCOPE from Python\n",
    "    5. [3-5](#3-5) Read the output\n",
    "    6. [3-6](#3-6) Plot and explore"
   ]
  },
  {
   "cell_type": "markdown",
   "id": "6491f6b5-f561-4cc9-94d9-09ce6c4e9336",
   "metadata": {},
   "source": [
    "# 1 \n",
    "## SCOPE model\n",
    "\n",
    "[back to TOC](#TOC)\n",
    "\n",
    "<img align=\"right\" src=\"../images/3-scope2.0.png\" alt=\"SCOPE logo\" width=\"40%\"/> \n",
    "\n",
    "Soil Canopy Observation, Photochemistry and Energy fluxes (SCOPE, Van der Tol et al., 2009, Yang et al., 2021) is a radiative transfer and energy balance model.\n",
    "\n",
    "The code is written in MATLAB https://github.com/Christiaanvandertol/SCOPE\n",
    "\n",
    "The documentation and model description is available https://scope-model.readthedocs.io/en/master/\n",
    "\n",
    "There are [YouTube](https://youtube.com/playlist?list=PLMKVJ8XOixyTEcUkYDw1YTgKHi-FgimF8&si=E-f3O-j3PrMREL97) user guides on how to use the model "
   ]
  },
  {
   "attachments": {},
   "cell_type": "markdown",
   "id": "737094fb-698a-4238-ae6b-2474dfea3d30",
   "metadata": {},
   "source": [
    "# 2\n",
    "## matlab engine installation\n",
    "\n",
    "[back to TOC](#TOC)\n",
    "\n",
    "1. The Python version should match the MATLAB version\n",
    "    - The list of Python versions compatible with MATLAB versions https://nl.mathworks.com/support/requirements/python-compatibility.html\n",
    "2. The package `matlabengine` should be installed from the `setup.py` **distributed with MATLAB**\n",
    "    - **do not use `pip install matlabengine` it will not work**\n",
    "    - the package setup.py file is located in `matlabroot\\extern\\engines\\python`\n",
    "    - type `matlabroot` in MATALB command prompt to find out where it is\n",
    "    - for me is */opt/matlab/R2018a/bin/matlab*\n",
    "        - navigate to this location in your terminal or anaconda promt\n",
    "        - usually the command is `cd /opt/matlab/R2018a/bin/matlab/extern/engines/python`\n",
    "        - then `python -m pip install .`\n",
    "\n",
    "The installation is described in https://nl.mathworks.com/help/matlab/matlab_external/install-the-matlab-engine-for-python.html\n",
    "\n",
    "The initialization of the matlab engine **may take up to a minute**"
   ]
  },
  {
   "cell_type": "code",
   "execution_count": 1,
   "id": "44327dfb-fa4d-4423-9792-af48596e7d73",
   "metadata": {},
   "outputs": [
    {
     "name": "stdout",
     "output_type": "stream",
     "text": [
      "CPU times: total: 828 ms\n",
      "Wall time: 58.5 s\n"
     ]
    }
   ],
   "source": [
    "%%time\n",
    "import matlab.engine\n",
    "eng = matlab.engine.start_matlab()"
   ]
  },
  {
   "cell_type": "code",
   "execution_count": 19,
   "id": "73bd22a7-e9e2-47d7-86b5-1946c4bd4c1a",
   "metadata": {},
   "outputs": [],
   "source": [
    "import matplotlib.pyplot as plt\n",
    "import pandas as pd\n",
    "\n",
    "from pathlib import Path\n",
    "\n",
    "plt.rcParams.update({'font.size': 16})"
   ]
  },
  {
   "cell_type": "markdown",
   "id": "e7887bbc-4c7e-4b6a-86e0-2429ca36f490",
   "metadata": {},
   "source": [
    "# 3\n",
    "## SCOPE run\n",
    "\n",
    "[back to TOC](#TOC)\n",
    "\n",
    "1. Download SCOPE from https://github.com/Christiaanvandertol/SCOPE\n",
    "    - keep the path ``path_scope``\n",
    "2. Adjust input files (can be done by hand)\n",
    "    - input/setoptions.csv\n",
    "        - verify = 0\n",
    "    - set_parameter_filenames.csv\n",
    "          - input_data_latin_hypercube.csv -> input_data_default.csv\n",
    "3. Provide values (from the distribution) for selected input variables in **input/input_data_default.csv**\n",
    "    - variable names can be searched in the documentation, for example meteo parameters https://scope-model.readthedocs.io/en/master/structs/input/meteo.html#fields\n",
    "4. Call SCOPE from Python\n",
    "    - cd matlab engine to ``path_scope``\n",
    "    - run SCOPE\n",
    "5. read output from the csv file in the **output** folder\n",
    "6. plot and explore"
   ]
  },
  {
   "cell_type": "markdown",
   "id": "46351774-a8b8-42be-bc48-ece9ce4b67fc",
   "metadata": {},
   "source": [
    "## 3-1\n",
    "### Provide path to the SCOPE model\n",
    "[back to TOC](#TOC)"
   ]
  },
  {
   "cell_type": "code",
   "execution_count": 3,
   "id": "ef33bcfe-037b-41e6-8839-9f45782057ba",
   "metadata": {},
   "outputs": [],
   "source": [
    "# provide here full path to the SCOPE model folder, the one where SCOPE.m file is\n",
    "path_scope = Path(r'C:\\Users\\PrikaziukE\\Downloads\\SCOPE-master')"
   ]
  },
  {
   "cell_type": "markdown",
   "id": "b75b9711-0249-4a8e-aa0b-7ad9050f5280",
   "metadata": {},
   "source": [
    "## 3-2\n",
    "### Adjust input files\n",
    "[back to TOC](#TOC)\n",
    "\n",
    "This can be done once. This will overwrite files"
   ]
  },
  {
   "cell_type": "code",
   "execution_count": 4,
   "id": "c2492615-67aa-4d1f-be81-c412b56dee1c",
   "metadata": {},
   "outputs": [],
   "source": [
    "path_csv = path_scope / 'set_parameter_filenames.csv'\n",
    "\n",
    "df = pd.read_csv(path_csv, header=None)\n",
    "df.iloc[0, 2] = 'input_data_default.csv'\n",
    "df.to_csv(path_csv, header=False, index=False)"
   ]
  },
  {
   "cell_type": "code",
   "execution_count": 5,
   "id": "190d15d9-0e47-4037-95a7-d9096a621301",
   "metadata": {},
   "outputs": [],
   "source": [
    "path_csv = path_scope / 'input' / 'setoptions.csv'\n",
    "\n",
    "df = pd.read_csv(path_csv, header=None)\n",
    "df.loc[df[1] == 'verify', 0] = 0\n",
    "df.to_csv(path_csv, header=False, index=False)"
   ]
  },
  {
   "cell_type": "markdown",
   "id": "adf40148-0abe-4d5a-97fa-584e64873b3b",
   "metadata": {},
   "source": [
    "## 3-3\n",
    "### Provide values of input variables\n",
    "[back to TOC](#TOC)\n",
    "\n",
    "here in example of LAI is given"
   ]
  },
  {
   "cell_type": "code",
   "execution_count": 6,
   "id": "d8d7fe01-7d1c-47f8-8711-067b78350bd2",
   "metadata": {},
   "outputs": [
    {
     "data": {
      "text/html": [
       "<div>\n",
       "<style scoped>\n",
       "    .dataframe tbody tr th:only-of-type {\n",
       "        vertical-align: middle;\n",
       "    }\n",
       "\n",
       "    .dataframe tbody tr th {\n",
       "        vertical-align: top;\n",
       "    }\n",
       "\n",
       "    .dataframe thead th {\n",
       "        text-align: right;\n",
       "    }\n",
       "</style>\n",
       "<table border=\"1\" class=\"dataframe\">\n",
       "  <thead>\n",
       "    <tr style=\"text-align: right;\">\n",
       "      <th></th>\n",
       "      <th>1</th>\n",
       "      <th>2</th>\n",
       "      <th>3</th>\n",
       "      <th>4</th>\n",
       "      <th>5</th>\n",
       "    </tr>\n",
       "    <tr>\n",
       "      <th>0</th>\n",
       "      <th></th>\n",
       "      <th></th>\n",
       "      <th></th>\n",
       "      <th></th>\n",
       "      <th></th>\n",
       "    </tr>\n",
       "  </thead>\n",
       "  <tbody>\n",
       "    <tr>\n",
       "      <th>PROSPECT</th>\n",
       "      <td>NaN</td>\n",
       "      <td>NaN</td>\n",
       "      <td>NaN</td>\n",
       "      <td>NaN</td>\n",
       "      <td>NaN</td>\n",
       "    </tr>\n",
       "    <tr>\n",
       "      <th>Cab</th>\n",
       "      <td>40.000</td>\n",
       "      <td>NaN</td>\n",
       "      <td>NaN</td>\n",
       "      <td>NaN</td>\n",
       "      <td>NaN</td>\n",
       "    </tr>\n",
       "    <tr>\n",
       "      <th>Cca</th>\n",
       "      <td>10.000</td>\n",
       "      <td>NaN</td>\n",
       "      <td>NaN</td>\n",
       "      <td>NaN</td>\n",
       "      <td>NaN</td>\n",
       "    </tr>\n",
       "    <tr>\n",
       "      <th>Cdm</th>\n",
       "      <td>0.012</td>\n",
       "      <td>NaN</td>\n",
       "      <td>NaN</td>\n",
       "      <td>NaN</td>\n",
       "      <td>NaN</td>\n",
       "    </tr>\n",
       "    <tr>\n",
       "      <th>Cw</th>\n",
       "      <td>0.009</td>\n",
       "      <td>NaN</td>\n",
       "      <td>NaN</td>\n",
       "      <td>NaN</td>\n",
       "      <td>NaN</td>\n",
       "    </tr>\n",
       "  </tbody>\n",
       "</table>\n",
       "</div>"
      ],
      "text/plain": [
       "               1   2   3   4   5\n",
       "0                               \n",
       "PROSPECT     NaN NaN NaN NaN NaN\n",
       "Cab       40.000 NaN NaN NaN NaN\n",
       "Cca       10.000 NaN NaN NaN NaN\n",
       "Cdm        0.012 NaN NaN NaN NaN\n",
       "Cw         0.009 NaN NaN NaN NaN"
      ]
     },
     "execution_count": 6,
     "metadata": {},
     "output_type": "execute_result"
    }
   ],
   "source": [
    "path_csv = path_scope / 'input' / 'input_data_default.csv'\n",
    "\n",
    "df = pd.read_csv(path_csv, header=None, index_col=0)\n",
    "df = df[[1]]\n",
    "\n",
    "var_name = 'LAI'\n",
    "values = [2.5, 2.7, 3, 3.3]\n",
    "df_insert = pd.DataFrame([values], index=[var_name])\n",
    "df_insert.columns += 2  # to avoid duplicated column error on join\n",
    "\n",
    "df = df.join(df_insert)\n",
    "df.to_csv(path_csv, header=False)\n",
    "df.head()"
   ]
  },
  {
   "cell_type": "markdown",
   "id": "b4ca81b4-c94a-41e1-88bb-74fa015c618a",
   "metadata": {},
   "source": [
    "## 3-4\n",
    "### Call SCOPE from Python\n",
    "[back to TOC](#TOC)"
   ]
  },
  {
   "cell_type": "code",
   "execution_count": 7,
   "id": "42c72594-d291-44b8-a7fb-bf9a2d7adf13",
   "metadata": {},
   "outputs": [],
   "source": [
    "eng.cd(path_scope.as_posix(), nargout=0)"
   ]
  },
  {
   "cell_type": "code",
   "execution_count": 8,
   "id": "5f20d0b0-ec59-4f3f-bbc0-56909d183cb2",
   "metadata": {},
   "outputs": [],
   "source": [
    "%%time\n",
    "eng.SCOPE(nargout=0)"
   ]
  },
  {
   "cell_type": "code",
   "execution_count": 9,
   "id": "d683b857-79df-4063-95ac-c0049cc61737",
   "metadata": {},
   "outputs": [
    {
     "data": {
      "text/plain": [
       "'output\\\\verification_run_2024-12-08-1032\\\\'"
      ]
     },
     "execution_count": 9,
     "metadata": {},
     "output_type": "execute_result"
    }
   ],
   "source": [
    "output_dir = eng.workspace['Output_dir']\n",
    "output_dir"
   ]
  },
  {
   "cell_type": "markdown",
   "id": "4414490f-b9a9-4ecf-87f8-978480008244",
   "metadata": {},
   "source": [
    "## 3-5\n",
    "### Read the output\n",
    "[back to TOC](#TOC)"
   ]
  },
  {
   "cell_type": "code",
   "execution_count": 10,
   "id": "ec2dc5a9-ba1e-42d3-b838-38cd1296fe9e",
   "metadata": {},
   "outputs": [],
   "source": [
    "path_output = path_scope / output_dir"
   ]
  },
  {
   "cell_type": "code",
   "execution_count": 11,
   "id": "ff3fac2f-d229-4ce9-a74e-0884896cb564",
   "metadata": {},
   "outputs": [
    {
     "data": {
      "text/html": [
       "<div>\n",
       "<style scoped>\n",
       "    .dataframe tbody tr th:only-of-type {\n",
       "        vertical-align: middle;\n",
       "    }\n",
       "\n",
       "    .dataframe tbody tr th {\n",
       "        vertical-align: top;\n",
       "    }\n",
       "\n",
       "    .dataframe thead th {\n",
       "        text-align: right;\n",
       "    }\n",
       "</style>\n",
       "<table border=\"1\" class=\"dataframe\">\n",
       "  <thead>\n",
       "    <tr style=\"text-align: right;\">\n",
       "      <th></th>\n",
       "      <th>simulation_number</th>\n",
       "      <th>year</th>\n",
       "      <th>DoY</th>\n",
       "      <th>Photosynthesis</th>\n",
       "      <th>Electron_transport</th>\n",
       "      <th>NPQ_energy</th>\n",
       "      <th>NPQ_photon</th>\n",
       "      <th>canopy_level_FQE</th>\n",
       "      <th>LST</th>\n",
       "      <th>emis</th>\n",
       "      <th>GPP</th>\n",
       "    </tr>\n",
       "  </thead>\n",
       "  <tbody>\n",
       "    <tr>\n",
       "      <th>0</th>\n",
       "      <td>2</td>\n",
       "      <td>0</td>\n",
       "      <td>0</td>\n",
       "      <td>18.34118</td>\n",
       "      <td>140.8014</td>\n",
       "      <td>44.31496</td>\n",
       "      <td>215.1400</td>\n",
       "      <td>0.012479</td>\n",
       "      <td>296.3763</td>\n",
       "      <td>0.976884</td>\n",
       "      <td>19.76428</td>\n",
       "    </tr>\n",
       "    <tr>\n",
       "      <th>1</th>\n",
       "      <td>3</td>\n",
       "      <td>0</td>\n",
       "      <td>0</td>\n",
       "      <td>19.13445</td>\n",
       "      <td>147.4095</td>\n",
       "      <td>44.94205</td>\n",
       "      <td>218.2342</td>\n",
       "      <td>0.012466</td>\n",
       "      <td>296.3181</td>\n",
       "      <td>0.977467</td>\n",
       "      <td>20.67196</td>\n",
       "    </tr>\n",
       "    <tr>\n",
       "      <th>2</th>\n",
       "      <td>4</td>\n",
       "      <td>0</td>\n",
       "      <td>0</td>\n",
       "      <td>20.15124</td>\n",
       "      <td>156.1072</td>\n",
       "      <td>45.74279</td>\n",
       "      <td>222.1880</td>\n",
       "      <td>0.012432</td>\n",
       "      <td>296.2636</td>\n",
       "      <td>0.978143</td>\n",
       "      <td>21.86081</td>\n",
       "    </tr>\n",
       "    <tr>\n",
       "      <th>3</th>\n",
       "      <td>5</td>\n",
       "      <td>0</td>\n",
       "      <td>0</td>\n",
       "      <td>20.98676</td>\n",
       "      <td>163.5320</td>\n",
       "      <td>46.40050</td>\n",
       "      <td>225.4380</td>\n",
       "      <td>0.012392</td>\n",
       "      <td>296.2402</td>\n",
       "      <td>0.978639</td>\n",
       "      <td>22.86888</td>\n",
       "    </tr>\n",
       "  </tbody>\n",
       "</table>\n",
       "</div>"
      ],
      "text/plain": [
       "   simulation_number  year  DoY  Photosynthesis  Electron_transport  \\\n",
       "0                  2     0    0        18.34118            140.8014   \n",
       "1                  3     0    0        19.13445            147.4095   \n",
       "2                  4     0    0        20.15124            156.1072   \n",
       "3                  5     0    0        20.98676            163.5320   \n",
       "\n",
       "   NPQ_energy  NPQ_photon  canopy_level_FQE       LST      emis       GPP  \n",
       "0    44.31496    215.1400          0.012479  296.3763  0.976884  19.76428  \n",
       "1    44.94205    218.2342          0.012466  296.3181  0.977467  20.67196  \n",
       "2    45.74279    222.1880          0.012432  296.2636  0.978143  21.86081  \n",
       "3    46.40050    225.4380          0.012392  296.2402  0.978639  22.86888  "
      ]
     },
     "execution_count": 11,
     "metadata": {},
     "output_type": "execute_result"
    }
   ],
   "source": [
    "df = pd.read_csv(path_output / 'vegetation.csv', skiprows=[1, 2])  # 1 - units, 2 - value we did not change\n",
    "df"
   ]
  },
  {
   "cell_type": "markdown",
   "id": "3b9e0beb-42b0-4e2a-a296-af325a8de5e1",
   "metadata": {},
   "source": [
    "## 3-6\n",
    "### Plot and explore\n",
    "[back to TOC](#TOC)\n",
    "\n",
    "In the example there were 4 values of LAI `[2.5, 2.7, 3, 3.3]`\n",
    "\n",
    "SCOPE returned 4 values of GPP, corresponing to those values of LAI"
   ]
  },
  {
   "cell_type": "code",
   "execution_count": 12,
   "id": "8346a6b1-ddb3-4001-8954-4234e4e75324",
   "metadata": {},
   "outputs": [
    {
     "data": {
      "text/plain": [
       "0    19.76428\n",
       "1    20.67196\n",
       "2    21.86081\n",
       "3    22.86888\n",
       "Name: GPP, dtype: float64"
      ]
     },
     "execution_count": 12,
     "metadata": {},
     "output_type": "execute_result"
    }
   ],
   "source": [
    "df.GPP"
   ]
  },
  {
   "cell_type": "code",
   "execution_count": 18,
   "id": "10dcd01f-e5c5-4e44-875d-f6aa80ca9397",
   "metadata": {},
   "outputs": [
    {
     "data": {
      "text/plain": [
       "Text(0.5, 1.0, 'Ouput of the SCOPE model runs')"
      ]
     },
     "execution_count": 18,
     "metadata": {},
     "output_type": "execute_result"
    },
    {
     "data": {
      "image/png": "[encoded data removed]",
      "text/plain": [
       "<Figure size 640x480 with 1 Axes>"
      ]
     },
     "metadata": {},
     "output_type": "display_data"
    }
   ],
   "source": [
    "ax = plt.subplot()\n",
    "\n",
    "ax.plot(values, df.GPP, 'o-')\n",
    "ax.set_xlabel(f'{var_name}, ' + 'm$^2$ m$^{-2}$')\n",
    "ax.set_ylabel('GPP, ' + '$umol$ CO$_2$ m$^{-2}$ s$^{-1}$')\n",
    "ax.set_title('Ouput of the SCOPE model runs')"
   ]
  }
 ],
 "metadata": {
  "kernelspec": {
   "display_name": "Python 3 (ipykernel)",
   "language": "python",
   "name": "python3"
  },
  "language_info": {
   "codemirror_mode": {
    "name": "ipython",
    "version": 3
   },
   "file_extension": ".py",
   "mimetype": "text/x-python",
   "name": "python",
   "nbconvert_exporter": "python",
   "pygments_lexer": "ipython3",
   "version": "3.9.21"
  }
 },
 "nbformat": 4,
 "nbformat_minor": 5
}
