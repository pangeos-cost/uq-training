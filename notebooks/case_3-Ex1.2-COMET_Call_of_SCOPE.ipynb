{
 "cells": [
  {
   "cell_type": "markdown",
   "id": "b88db1a4-0bf9-4ff9-8d3b-3210ad913f1f",
   "metadata": {},
   "source": [
    "<a href=\"https://pangeos.eu/\" target=\"_blank\">\n",
    "<center><img src=\"../images/1-logos-pan-eu-cost.png\" alt=\"logos\" width=\"100%\"/></center>\n",
    "</a>\n",
    "\n",
    "PANGEOS summer taining school 2024\n",
    "\n",
    "EXAMPLE OF UNCERTAINTY PROPAGATION FOR \n",
    "\n",
    "# CASE 3: Propagation of retrieved traits to higher level products\n",
    "\n",
    "**Authors:**\n",
    "Andreas Hueni (andreas.hueni@geo.uzh.ch), Mike Werfeli (mike.werfeli@geo.uzh.ch) and Egor Prikaziuk (e.prikaziuk@utwente.nl)"
   ]
  },
  {
   "cell_type": "markdown",
   "id": "212c62db-4646-4715-8764-370cba1ee000",
   "metadata": {},
   "source": [
    "<div class=\"alert alert-success\">\n",
    "Using SCOPE from MATLAB is easy once you have a MATLAB license.\n",
    "</div>\n",
    "\n",
    "<div class=\"alert alert-warning\">\n",
    "Calling MATLAB from Python is complicated because <strong>matlab-python bridge</strong> requires a matching Python version.\n",
    "</div>\n",
    "\n",
    "If you can not run this example it is ok. \n",
    "\n",
    "There's another notebook that shows how to propagate the uncertainty throgh SCOPE purely from the distributions of parameters, outside punpy and covariances"
   ]
  },
  {
   "cell_type": "markdown",
   "id": "867f6bc4-4a64-41b7-94b6-4dcae3ffa999",
   "metadata": {},
   "source": [
    "# Learning objectives\n",
    "\n",
    "**After follwing this notebook you will be able to ...**\n",
    "- propagate uncertainty in the retrieved traits (LAI) to the uncertainty in the higher level model outputs (LAI)\n",
    "- propagate uncertainty through complex models \n"
   ]
  },
  {
   "cell_type": "markdown",
   "id": "3cb28aab-753b-47ed-8bc5-17b565f6ef69",
   "metadata": {},
   "source": [
    "# TOC\n",
    "\n",
    "1. [Introduction](#1)\n",
    "2. [Propagate uncertainty](#2)\n",
    "    1. [2-1](#2-1) Monte Carlo sampler initialization\n",
    "    2. [2-2](#2-2) model function definition\n",
    "    3. [2-3](#2-3) mean value computation\n",
    "    4. [2-4](#2-4) uncertainty definition\n",
    "    5. [2-5](#2-5) uncertinaty propagation\n",
    "3. [Meaning](#3)\n",
    "    1. [3-1](#3-1) in words\n",
    "    2. [3-2](#3-2) graphically"
   ]
  },
  {
   "cell_type": "markdown",
   "id": "61a05526-cc6a-4d51-9fd5-a72578d8102f",
   "metadata": {},
   "source": [
    "# 1 \n",
    "## Introduction \n",
    "[back to TOC](#TOC)\n",
    "\n",
    "This notebook shows that `punpy` package is capable of propagating uncertainty through complex functions and models that are not even written in Python.\n",
    "\n",
    "For that you have to have the `matlabengine` package installed, along with MATLAB and the SCOPE model. Please, refer to the [case_3-Ex1.1-Run_SCOPE_from_Python.ipynb](case_3-Ex1.1-Run_SCOPE_from_Python.ipynb) notebook"
   ]
  },
  {
   "cell_type": "code",
   "execution_count": 1,
   "id": "03719cd0-c22f-4c22-9631-06444410e0fd",
   "metadata": {},
   "outputs": [
    {
     "name": "stdout",
     "output_type": "stream",
     "text": [
      "CPU times: total: 672 ms\n",
      "Wall time: 39.7 s\n"
     ]
    }
   ],
   "source": [
    "%%time\n",
    "import matlab.engine\n",
    "eng = matlab.engine.start_matlab()"
   ]
  },
  {
   "cell_type": "code",
   "execution_count": 2,
   "id": "07c66c09-3666-4dce-92ab-4ca504424603",
   "metadata": {},
   "outputs": [
    {
     "data": {
      "text/plain": [
       "'1.0.1'"
      ]
     },
     "execution_count": 2,
     "metadata": {},
     "output_type": "execute_result"
    }
   ],
   "source": [
    "from importlib.metadata import version\n",
    "version('punpy')"
   ]
  },
  {
   "cell_type": "code",
   "execution_count": 3,
   "id": "a6950a3c-67fd-4258-9175-1419b359ba96",
   "metadata": {},
   "outputs": [],
   "source": [
    "import matplotlib.pyplot as plt\n",
    "import numpy as np\n",
    "import pandas as pd\n",
    "import punpy\n",
    "\n",
    "from pathlib import Path\n",
    "\n",
    "plt.rcParams.update({'font.size': 16})"
   ]
  },
  {
   "cell_type": "markdown",
   "id": "c020b477-e15d-4f59-9670-7191aa80196b",
   "metadata": {},
   "source": [
    "# 2\n",
    "## Uncertainty propagation with punpy\n",
    "[back to TOC](#TOC)"
   ]
  },
  {
   "cell_type": "markdown",
   "id": "01aa4987-3ed2-461d-84dc-20225b895a43",
   "metadata": {},
   "source": [
    "### 2-1 \n",
    "#### Monte Carlo sampler initialization\n",
    "[back to TOC](#TOC)\n",
    "\n",
    "SCOPE model is slow (~1 second per run) => it takes too long to run 10 000 samples as before, let's limit it to 100"
   ]
  },
  {
   "cell_type": "code",
   "execution_count": 4,
   "id": "59b67ff3-e430-410a-8540-469b9c00505d",
   "metadata": {},
   "outputs": [],
   "source": [
    "prop = punpy.MCPropagation(100)"
   ]
  },
  {
   "cell_type": "markdown",
   "id": "f04360b7-eb36-4612-9e9a-bb4cadcfbb9d",
   "metadata": {},
   "source": [
    "### 2-2\n",
    "#### wrapper function definition\n",
    "[back to TOC](#TOC)\n",
    "\n",
    "These are steps from the previous notebook [case_3-Ex1.1-Run_SCOPE_from_Python.ipynb](case_3-Ex1.1-Run_SCOPE_from_Python.ipynb)  wrapped in a function to call with punpy\n",
    "\n",
    "Our target variables (SCOPE outputs) for which we want to get the uncertainty are\n",
    "- GPP - gross primary productivity, photosynthesis\n",
    "- LST - land surface temperature"
   ]
  },
  {
   "cell_type": "code",
   "execution_count": 5,
   "id": "9ec0d792-a15e-4cac-9764-6f6e4bbea55e",
   "metadata": {},
   "outputs": [],
   "source": [
    "# provide here full path to the SCOPE model folder, the one where SCOPE.m file is\n",
    "path_scope = Path(r'C:\\Users\\PrikaziukE\\Downloads\\SCOPE-master')\n",
    "\n",
    "def run_scope(LAIs, eng=eng, path_scope=path_scope):\n",
    "    \"\"\"\n",
    "    define function to call SCOPE, passsing the arguments to pass via CSV file\n",
    "    returns GPP and LST in an array\n",
    "    \"\"\"\n",
    "\n",
    "    print('Running SCOPE!')\n",
    "\n",
    "    path_csv = path_scope / 'set_parameter_filenames.csv'\n",
    "\n",
    "    df = pd.read_csv(path_csv, header=None)\n",
    "    df.iloc[0, 2] = 'input_data_default.csv'\n",
    "    df.to_csv(path_csv, header=False, index=False)    \n",
    "\n",
    "    path_csv = path_scope / 'input' / 'setoptions.csv'\n",
    "\n",
    "    df = pd.read_csv(path_csv, header=None)\n",
    "    df.loc[df[1] == 'verify', 0] = 0\n",
    "    df.to_csv(path_csv, header=False, index=False)\n",
    "\n",
    "    path_csv = path_scope / 'input' / 'input_data_default.csv'\n",
    "    df = pd.read_csv(path_csv, header=None, index_col=0)\n",
    "    df = df[[1]]\n",
    "\n",
    "    var_name = 'LAI'\n",
    "    df_insert = pd.DataFrame([LAIs], index=[var_name])\n",
    "    df_insert.columns += 2  # to avoid duplicated column error on join\n",
    "    \n",
    "    df = df.join(df_insert)\n",
    "    df.to_csv(path_csv, header=False)\n",
    "\n",
    "    eng.cd(path_scope.as_posix(), nargout=0)\n",
    "    eng.SCOPE(nargout=0)\n",
    "    output_dir = eng.workspace['Output_dir']\n",
    "\n",
    "    path_output = path_scope / output_dir\n",
    "\n",
    "    df = pd.read_csv(path_output / 'vegetation.csv', skiprows=[1, 2])  # 1 - units, 2 - value we did not change\n",
    "\n",
    "    return np.array([df.GPP, df.LST])"
   ]
  },
  {
   "cell_type": "markdown",
   "id": "e0b60adc-ab0a-4967-99d6-42076250edb2",
   "metadata": {},
   "source": [
    "### 2-3\n",
    "#### mean value computation\n",
    "[back to TOC](#TOC)"
   ]
  },
  {
   "cell_type": "code",
   "execution_count": 6,
   "id": "991d6217-7ce5-44a0-8690-a4556b4e6978",
   "metadata": {},
   "outputs": [
    {
     "name": "stdout",
     "output_type": "stream",
     "text": [
      "Running SCOPE!\n"
     ]
    },
    {
     "data": {
      "text/plain": [
       "(array([19.76428]), array([296.3763]))"
      ]
     },
     "execution_count": 6,
     "metadata": {},
     "output_type": "execute_result"
    }
   ],
   "source": [
    "# an example on how to use the scope encapsulation function\n",
    "LAI_values = np.array(2.5)\n",
    "\n",
    "GPP, LST = run_scope(LAI_values)\n",
    "GPP, LST"
   ]
  },
  {
   "cell_type": "markdown",
   "id": "05b50cd5-b0e3-4020-9203-2441dadb14b9",
   "metadata": {},
   "source": [
    "### 2-4 \n",
    "#### uncertainty quantification\n",
    "[back to TOC](#TOC)\n",
    "\n",
    "Here relative uncertainty of 3% is assumed.\n",
    "\n",
    "You can use standard deviation of retrieved LAI from the code of Jose [09-PiccoloDoppioInversion.ipynb](https://github.com/pangeos-cost/pangeos_uq/blob/main/notebooks/09-PiccoloDoppioInversion.ipynb)"
   ]
  },
  {
   "cell_type": "code",
   "execution_count": 7,
   "id": "e7abba6e-b641-4dda-bc9b-f20cec863438",
   "metadata": {},
   "outputs": [],
   "source": [
    "LAI_uncertainties_random = LAI_values * 0.05  # random uncertainty of 5 %"
   ]
  },
  {
   "cell_type": "markdown",
   "id": "6907d24b-7cc1-414a-9862-c6add0911917",
   "metadata": {},
   "source": [
    "### 2-5\n",
    "#### uncertainty propagation\n",
    "[back to TOC](#TOC)\n",
    "\n",
    "function help https://punpy.readthedocs.io/en/latest/content/generated/punpy.mc.mc_propagation.MCPropagation.propagate_random.html#punpy.mc.mc_propagation.MCPropagation.propagate_random"
   ]
  },
  {
   "cell_type": "code",
   "execution_count": 8,
   "id": "a2cc6d56-1f76-4bd3-b655-285bdb0337c6",
   "metadata": {},
   "outputs": [
    {
     "name": "stdout",
     "output_type": "stream",
     "text": [
      "Running SCOPE!\n",
      "Running SCOPE!\n",
      "CPU times: total: 406 ms\n",
      "Wall time: 17.9 s\n"
     ]
    }
   ],
   "source": [
    "%%time\n",
    "GPP_ur, LST_ur = prop.propagate_random(run_scope, \n",
    "                                       [LAI_values], \n",
    "                                       [LAI_uncertainties_random])"
   ]
  },
  {
   "cell_type": "code",
   "execution_count": 9,
   "id": "3283e6ea-9f28-4e99-8273-7d3dc4227688",
   "metadata": {},
   "outputs": [
    {
     "data": {
      "text/plain": [
       "(0.6635838967619618, 0.045332892815263155)"
      ]
     },
     "execution_count": 9,
     "metadata": {},
     "output_type": "execute_result"
    }
   ],
   "source": [
    "GPP_ur, LST_ur"
   ]
  },
  {
   "cell_type": "markdown",
   "id": "df75a11e-e15e-4f83-9ed2-ccff1fd0a730",
   "metadata": {},
   "source": [
    "# 3\n",
    "## meaning\n",
    "[back to TOC](#TOC)\n",
    "\n",
    "## 3-1\n",
    "### in numbers\n",
    "[back to TOC](#TOC)"
   ]
  },
  {
   "cell_type": "code",
   "execution_count": 10,
   "id": "02692f5f-ce10-4a49-8f50-2d085518f810",
   "metadata": {},
   "outputs": [
    {
     "name": "stdout",
     "output_type": "stream",
     "text": [
      "LAI = 2.50 +/- 0.12 m2 m-2\n"
     ]
    }
   ],
   "source": [
    "print(f'LAI = {LAI_values:.2f} +/- {LAI_uncertainties_random:.2f}' + ' m2 m-2')"
   ]
  },
  {
   "cell_type": "code",
   "execution_count": 11,
   "id": "0a4e0302-f220-4231-ac74-a370846d7e75",
   "metadata": {},
   "outputs": [
    {
     "name": "stdout",
     "output_type": "stream",
     "text": [
      "GPP = 19.76 +/- 0.66 umol CO2 m-2 s-1\n"
     ]
    }
   ],
   "source": [
    "print(f'GPP = {GPP[0]:.2f} +/- {GPP_ur:.2f}' + ' umol CO2 m-2 s-1')"
   ]
  },
  {
   "cell_type": "code",
   "execution_count": 12,
   "id": "d276321e-8fa6-4517-acac-6b52c10a3c5f",
   "metadata": {},
   "outputs": [
    {
     "name": "stdout",
     "output_type": "stream",
     "text": [
      "LST = 296.38 +/- 0.05 K\n"
     ]
    }
   ],
   "source": [
    "print(f'LST = {LST[0]:.2f} +/- {LST_ur:.2f}' + ' K')"
   ]
  },
  {
   "cell_type": "code",
   "execution_count": 13,
   "id": "82c1f55d-233d-4a9e-9062-ca61becfb4bb",
   "metadata": {},
   "outputs": [
    {
     "name": "stdout",
     "output_type": "stream",
     "text": [
      "relative LAI uncertainty is 5.0%\n",
      "relative GPP uncertainty is 3.4%\n",
      "relative LST uncertainty is 0.0%\n"
     ]
    }
   ],
   "source": [
    "print(f'relative LAI uncertainty is {LAI_uncertainties_random / LAI_values * 100:.1f}%')\n",
    "print(f'relative GPP uncertainty is {GPP_ur / GPP[0] * 100:.1f}%')\n",
    "print(f'relative LST uncertainty is {LST_ur / LST[0] * 100:.1f}%')"
   ]
  },
  {
   "cell_type": "markdown",
   "id": "c37318c4-f36b-4976-9f23-ce5f66bad035",
   "metadata": {},
   "source": [
    "## 3-2\n",
    "### graphically\n",
    "[back to TOC](#TOC)\n",
    "\n",
    "Propagation of uncertainty allows drowing errorbars on the estimated values"
   ]
  },
  {
   "cell_type": "code",
   "execution_count": 14,
   "id": "5c423d46-26a0-4224-bbe9-df1201063cf1",
   "metadata": {},
   "outputs": [
    {
     "data": {
      "text/plain": [
       "Text(0.5, 1.0, 'LST vs LAI')"
      ]
     },
     "execution_count": 14,
     "metadata": {},
     "output_type": "execute_result"
    },
    {
     "data": {
      "image/png": "[encoded data removed]",
      "text/plain": [
       "<Figure size 1200x450 with 2 Axes>"
      ]
     },
     "metadata": {},
     "output_type": "display_data"
    }
   ],
   "source": [
    "_, axs = plt.subplots(1, 2, figsize=(12, 4.5), tight_layout=True)\n",
    "\n",
    "ax = axs[0]\n",
    "ax.errorbar(LAI_values, GPP, xerr=LAI_uncertainties_random, yerr=GPP_ur, capsize=20, marker='o')\n",
    "ax.set_xlabel('LAI, ' + 'm$^2$ m$^{-2}$')\n",
    "ax.set_ylabel('GPP, ' + '$umol$ CO$_2$ m$^{-2}$ s$^{-1}$')\n",
    "ax.set_title('GPP vs LAI')\n",
    "\n",
    "ax = axs[1]\n",
    "ax.errorbar(LAI_values, LST, xerr=LAI_uncertainties_random, yerr=LST_ur, capsize=20, marker='o')\n",
    "ax.set_xlabel('LAI, ' + 'm$^2$ m$^{-2}$')\n",
    "ax.set_ylabel('LST, ' + 'K')\n",
    "ax.set_title('LST vs LAI')"
   ]
  },
  {
   "cell_type": "markdown",
   "id": "437ac7ab-1c23-4a22-b09a-9ac36bc73c71",
   "metadata": {},
   "source": [
    "### same as above but in the expected parameter ranges\n",
    "\n",
    "- LAI - 0 - 7 m$^2$ m$^{-2}$\n",
    "- GPP 0 - 40 $umol$ CO$_2$ m$^{-2}$ s$^{-1}$\n",
    "- LST 273 - 320 K"
   ]
  },
  {
   "cell_type": "code",
   "execution_count": 15,
   "id": "de507be8-bc47-4779-9b4f-087292fa961b",
   "metadata": {},
   "outputs": [
    {
     "data": {
      "text/plain": [
       "(0.0, 7.0)"
      ]
     },
     "execution_count": 15,
     "metadata": {},
     "output_type": "execute_result"
    },
    {
     "data": {
      "image/png": "[encoded data removed]",
      "text/plain": [
       "<Figure size 1600x450 with 2 Axes>"
      ]
     },
     "metadata": {},
     "output_type": "display_data"
    }
   ],
   "source": [
    "_, axs = plt.subplots(1, 2, figsize=(16, 4.5), tight_layout=True)\n",
    "\n",
    "ax = axs[0]\n",
    "ax.errorbar(LAI_values, GPP, xerr=LAI_uncertainties_random, yerr=GPP_ur, capsize=3)\n",
    "ax.set_xlabel('LAI, ' + 'm$^2$ m$^{-2}$')\n",
    "ax.set_ylabel('GPP, ' + '$umol$ CO$_2$ m$^{-2}$ s$^{-1}$')\n",
    "ax.set_title('GPP vs LAI')\n",
    "ax.set_ylim([0, 40])\n",
    "ax.set_xlim([0, 7])\n",
    "\n",
    "ax = axs[1]\n",
    "ax.errorbar(LAI_values, LST, xerr=LAI_uncertainties_random, yerr=LST_ur, capsize=3)\n",
    "ax.set_xlabel('LAI, ' + 'm$^2$ m$^{-2}$')\n",
    "ax.set_ylabel('LST, ' + 'K')\n",
    "ax.set_title('LST vs LAI')\n",
    "ax.set_ylim([273, 320])\n",
    "ax.set_xlim([0, 7])"
   ]
  }
 ],
 "metadata": {
  "kernelspec": {
   "display_name": "Python 3 (ipykernel)",
   "language": "python",
   "name": "python3"
  },
  "language_info": {
   "codemirror_mode": {
    "name": "ipython",
    "version": 3
   },
   "file_extension": ".py",
   "mimetype": "text/x-python",
   "name": "python",
   "nbconvert_exporter": "python",
   "pygments_lexer": "ipython3",
   "version": "3.9.21"
  }
 },
 "nbformat": 4,
 "nbformat_minor": 5
}
